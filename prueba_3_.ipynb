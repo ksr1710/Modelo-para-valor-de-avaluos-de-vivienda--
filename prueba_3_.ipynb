{
  "nbformat": 4,
  "nbformat_minor": 0,
  "metadata": {
    "colab": {
      "provenance": [],
      "toc_visible": true
    },
    "kernelspec": {
      "name": "python3",
      "display_name": "Python 3"
    },
    "language_info": {
      "name": "python"
    }
  },
  "cells": [
    {
      "cell_type": "markdown",
      "source": [
        "#Importe de librerias basicas "
      ],
      "metadata": {
        "id": "Yj7Ce5Kzq8z_"
      }
    },
    {
      "cell_type": "code",
      "execution_count": null,
      "metadata": {
        "id": "Cl1BvtWBzs7_"
      },
      "outputs": [],
      "source": [
        "\n",
        "import pandas as pd\n",
        "import matplotlib.pyplot as plt\n",
        "import seaborn as sns\n",
        "import numpy as np\n",
        "from scipy.stats import norm\n",
        "from sklearn.preprocessing import StandardScaler\n",
        "from scipy import stats\n",
        "import warnings\n",
        "warnings.filterwarnings('ignore') # Para evitar los molestos avisos.\n",
        "%matplotlib inline\n",
        "\n",
        "from sklearn.linear_model import LinearRegression\n",
        "from sklearn.model_selection import train_test_split"
      ]
    },
    {
      "cell_type": "markdown",
      "source": [
        "#Vista inicial de los datos"
      ],
      "metadata": {
        "id": "odbAn9vcrIIp"
      }
    },
    {
      "cell_type": "code",
      "source": [
        "df = pd.read_csv(\"/content/train_precios_vivienda.csv\")\n",
        "df.head()"
      ],
      "metadata": {
        "colab": {
          "base_uri": "https://localhost:8080/",
          "height": 543
        },
        "id": "aWgGSfFf09CO",
        "outputId": "b3511a6c-b58b-4cf5-db55-a1c16c9723cb"
      },
      "execution_count": null,
      "outputs": [
        {
          "output_type": "execute_result",
          "data": {
            "text/plain": [
              "   Unnamed: 0     id  fecha_aprobación        objeto  \\\n",
              "0        4112   5896      43090.624747        Remate   \n",
              "1        7401  10570               NaN  OriginaciÃ³n   \n",
              "2       10223  14600               NaN  OriginaciÃ³n   \n",
              "3        4170   5967      43091.676139  OriginaciÃ³n   \n",
              "4       11073  15814               NaN  OriginaciÃ³n   \n",
              "\n",
              "                             motivo              proposito  tipo_avaluo  \\\n",
              "0                           Remates  GarantÃ­a Hipotecaria      Remates   \n",
              "1  CrÃ©dito hipotecario de vivienda  GarantÃ­a Hipotecaria  Hipotecario   \n",
              "2  CrÃ©dito hipotecario de vivienda  GarantÃ­a Hipotecaria  Hipotecario   \n",
              "3  CrÃ©dito hipotecario de vivienda  GarantÃ­a Hipotecaria  Hipotecario   \n",
              "4  CrÃ©dito hipotecario de vivienda  GarantÃ­a Hipotecaria  Hipotecario   \n",
              "\n",
              "  tipo_credito tipo_subsidio departamento_inmueble  ...  \\\n",
              "0     Vivienda           NaN       VALLE DEL CAUCA  ...   \n",
              "1     Vivienda           NaN              QUINDÃO  ...   \n",
              "2     Vivienda           NaN             ANTIOQUIA  ...   \n",
              "3     Vivienda           VIS          CUNDINAMARCA  ...   \n",
              "4     Vivienda           VIS                  META  ...   \n",
              "\n",
              "  valor_area_construccion area_otros valor_area_otros area_libre  \\\n",
              "0             81968750,00          0                0          0   \n",
              "1                       0        157         78500000         No   \n",
              "2                       0          0                0         Si   \n",
              "3                       0          0                0         No   \n",
              "4                69306400          0                0          0   \n",
              "\n",
              "  valor_area_libre valor_total_avaluo           valor_uvr valor_avaluo_en_uvr  \\\n",
              "0                0       145318750,00             2522304           576134,95   \n",
              "1                0          713986654  257.23250000000002          2775647.14   \n",
              "2                0          270500000            259.4264          1042684.94   \n",
              "3                0        84840000,00              252245           336339,67   \n",
              "4                0           96346400  259.72770000000003           370951.58   \n",
              "\n",
              "    Longitud   Latitud  \n",
              "0   0.000000  0.000000  \n",
              "1 -75.661152  4.544027  \n",
              "2 -75.584116  6.277020  \n",
              "3   0.000000  0.000000  \n",
              "4 -73.712370  3.565757  \n",
              "\n",
              "[5 rows x 222 columns]"
            ],
            "text/html": [
              "\n",
              "  <div id=\"df-0e800672-d2b7-4b17-a95c-43e43cf25069\">\n",
              "    <div class=\"colab-df-container\">\n",
              "      <div>\n",
              "<style scoped>\n",
              "    .dataframe tbody tr th:only-of-type {\n",
              "        vertical-align: middle;\n",
              "    }\n",
              "\n",
              "    .dataframe tbody tr th {\n",
              "        vertical-align: top;\n",
              "    }\n",
              "\n",
              "    .dataframe thead th {\n",
              "        text-align: right;\n",
              "    }\n",
              "</style>\n",
              "<table border=\"1\" class=\"dataframe\">\n",
              "  <thead>\n",
              "    <tr style=\"text-align: right;\">\n",
              "      <th></th>\n",
              "      <th>Unnamed: 0</th>\n",
              "      <th>id</th>\n",
              "      <th>fecha_aprobación</th>\n",
              "      <th>objeto</th>\n",
              "      <th>motivo</th>\n",
              "      <th>proposito</th>\n",
              "      <th>tipo_avaluo</th>\n",
              "      <th>tipo_credito</th>\n",
              "      <th>tipo_subsidio</th>\n",
              "      <th>departamento_inmueble</th>\n",
              "      <th>...</th>\n",
              "      <th>valor_area_construccion</th>\n",
              "      <th>area_otros</th>\n",
              "      <th>valor_area_otros</th>\n",
              "      <th>area_libre</th>\n",
              "      <th>valor_area_libre</th>\n",
              "      <th>valor_total_avaluo</th>\n",
              "      <th>valor_uvr</th>\n",
              "      <th>valor_avaluo_en_uvr</th>\n",
              "      <th>Longitud</th>\n",
              "      <th>Latitud</th>\n",
              "    </tr>\n",
              "  </thead>\n",
              "  <tbody>\n",
              "    <tr>\n",
              "      <th>0</th>\n",
              "      <td>4112</td>\n",
              "      <td>5896</td>\n",
              "      <td>43090.624747</td>\n",
              "      <td>Remate</td>\n",
              "      <td>Remates</td>\n",
              "      <td>GarantÃ­a Hipotecaria</td>\n",
              "      <td>Remates</td>\n",
              "      <td>Vivienda</td>\n",
              "      <td>NaN</td>\n",
              "      <td>VALLE DEL CAUCA</td>\n",
              "      <td>...</td>\n",
              "      <td>81968750,00</td>\n",
              "      <td>0</td>\n",
              "      <td>0</td>\n",
              "      <td>0</td>\n",
              "      <td>0</td>\n",
              "      <td>145318750,00</td>\n",
              "      <td>2522304</td>\n",
              "      <td>576134,95</td>\n",
              "      <td>0.000000</td>\n",
              "      <td>0.000000</td>\n",
              "    </tr>\n",
              "    <tr>\n",
              "      <th>1</th>\n",
              "      <td>7401</td>\n",
              "      <td>10570</td>\n",
              "      <td>NaN</td>\n",
              "      <td>OriginaciÃ³n</td>\n",
              "      <td>CrÃ©dito hipotecario de vivienda</td>\n",
              "      <td>GarantÃ­a Hipotecaria</td>\n",
              "      <td>Hipotecario</td>\n",
              "      <td>Vivienda</td>\n",
              "      <td>NaN</td>\n",
              "      <td>QUINDÃO</td>\n",
              "      <td>...</td>\n",
              "      <td>0</td>\n",
              "      <td>157</td>\n",
              "      <td>78500000</td>\n",
              "      <td>No</td>\n",
              "      <td>0</td>\n",
              "      <td>713986654</td>\n",
              "      <td>257.23250000000002</td>\n",
              "      <td>2775647.14</td>\n",
              "      <td>-75.661152</td>\n",
              "      <td>4.544027</td>\n",
              "    </tr>\n",
              "    <tr>\n",
              "      <th>2</th>\n",
              "      <td>10223</td>\n",
              "      <td>14600</td>\n",
              "      <td>NaN</td>\n",
              "      <td>OriginaciÃ³n</td>\n",
              "      <td>CrÃ©dito hipotecario de vivienda</td>\n",
              "      <td>GarantÃ­a Hipotecaria</td>\n",
              "      <td>Hipotecario</td>\n",
              "      <td>Vivienda</td>\n",
              "      <td>NaN</td>\n",
              "      <td>ANTIOQUIA</td>\n",
              "      <td>...</td>\n",
              "      <td>0</td>\n",
              "      <td>0</td>\n",
              "      <td>0</td>\n",
              "      <td>Si</td>\n",
              "      <td>0</td>\n",
              "      <td>270500000</td>\n",
              "      <td>259.4264</td>\n",
              "      <td>1042684.94</td>\n",
              "      <td>-75.584116</td>\n",
              "      <td>6.277020</td>\n",
              "    </tr>\n",
              "    <tr>\n",
              "      <th>3</th>\n",
              "      <td>4170</td>\n",
              "      <td>5967</td>\n",
              "      <td>43091.676139</td>\n",
              "      <td>OriginaciÃ³n</td>\n",
              "      <td>CrÃ©dito hipotecario de vivienda</td>\n",
              "      <td>GarantÃ­a Hipotecaria</td>\n",
              "      <td>Hipotecario</td>\n",
              "      <td>Vivienda</td>\n",
              "      <td>VIS</td>\n",
              "      <td>CUNDINAMARCA</td>\n",
              "      <td>...</td>\n",
              "      <td>0</td>\n",
              "      <td>0</td>\n",
              "      <td>0</td>\n",
              "      <td>No</td>\n",
              "      <td>0</td>\n",
              "      <td>84840000,00</td>\n",
              "      <td>252245</td>\n",
              "      <td>336339,67</td>\n",
              "      <td>0.000000</td>\n",
              "      <td>0.000000</td>\n",
              "    </tr>\n",
              "    <tr>\n",
              "      <th>4</th>\n",
              "      <td>11073</td>\n",
              "      <td>15814</td>\n",
              "      <td>NaN</td>\n",
              "      <td>OriginaciÃ³n</td>\n",
              "      <td>CrÃ©dito hipotecario de vivienda</td>\n",
              "      <td>GarantÃ­a Hipotecaria</td>\n",
              "      <td>Hipotecario</td>\n",
              "      <td>Vivienda</td>\n",
              "      <td>VIS</td>\n",
              "      <td>META</td>\n",
              "      <td>...</td>\n",
              "      <td>69306400</td>\n",
              "      <td>0</td>\n",
              "      <td>0</td>\n",
              "      <td>0</td>\n",
              "      <td>0</td>\n",
              "      <td>96346400</td>\n",
              "      <td>259.72770000000003</td>\n",
              "      <td>370951.58</td>\n",
              "      <td>-73.712370</td>\n",
              "      <td>3.565757</td>\n",
              "    </tr>\n",
              "  </tbody>\n",
              "</table>\n",
              "<p>5 rows × 222 columns</p>\n",
              "</div>\n",
              "      <button class=\"colab-df-convert\" onclick=\"convertToInteractive('df-0e800672-d2b7-4b17-a95c-43e43cf25069')\"\n",
              "              title=\"Convert this dataframe to an interactive table.\"\n",
              "              style=\"display:none;\">\n",
              "        \n",
              "  <svg xmlns=\"http://www.w3.org/2000/svg\" height=\"24px\"viewBox=\"0 0 24 24\"\n",
              "       width=\"24px\">\n",
              "    <path d=\"M0 0h24v24H0V0z\" fill=\"none\"/>\n",
              "    <path d=\"M18.56 5.44l.94 2.06.94-2.06 2.06-.94-2.06-.94-.94-2.06-.94 2.06-2.06.94zm-11 1L8.5 8.5l.94-2.06 2.06-.94-2.06-.94L8.5 2.5l-.94 2.06-2.06.94zm10 10l.94 2.06.94-2.06 2.06-.94-2.06-.94-.94-2.06-.94 2.06-2.06.94z\"/><path d=\"M17.41 7.96l-1.37-1.37c-.4-.4-.92-.59-1.43-.59-.52 0-1.04.2-1.43.59L10.3 9.45l-7.72 7.72c-.78.78-.78 2.05 0 2.83L4 21.41c.39.39.9.59 1.41.59.51 0 1.02-.2 1.41-.59l7.78-7.78 2.81-2.81c.8-.78.8-2.07 0-2.86zM5.41 20L4 18.59l7.72-7.72 1.47 1.35L5.41 20z\"/>\n",
              "  </svg>\n",
              "      </button>\n",
              "      \n",
              "  <style>\n",
              "    .colab-df-container {\n",
              "      display:flex;\n",
              "      flex-wrap:wrap;\n",
              "      gap: 12px;\n",
              "    }\n",
              "\n",
              "    .colab-df-convert {\n",
              "      background-color: #E8F0FE;\n",
              "      border: none;\n",
              "      border-radius: 50%;\n",
              "      cursor: pointer;\n",
              "      display: none;\n",
              "      fill: #1967D2;\n",
              "      height: 32px;\n",
              "      padding: 0 0 0 0;\n",
              "      width: 32px;\n",
              "    }\n",
              "\n",
              "    .colab-df-convert:hover {\n",
              "      background-color: #E2EBFA;\n",
              "      box-shadow: 0px 1px 2px rgba(60, 64, 67, 0.3), 0px 1px 3px 1px rgba(60, 64, 67, 0.15);\n",
              "      fill: #174EA6;\n",
              "    }\n",
              "\n",
              "    [theme=dark] .colab-df-convert {\n",
              "      background-color: #3B4455;\n",
              "      fill: #D2E3FC;\n",
              "    }\n",
              "\n",
              "    [theme=dark] .colab-df-convert:hover {\n",
              "      background-color: #434B5C;\n",
              "      box-shadow: 0px 1px 3px 1px rgba(0, 0, 0, 0.15);\n",
              "      filter: drop-shadow(0px 1px 2px rgba(0, 0, 0, 0.3));\n",
              "      fill: #FFFFFF;\n",
              "    }\n",
              "  </style>\n",
              "\n",
              "      <script>\n",
              "        const buttonEl =\n",
              "          document.querySelector('#df-0e800672-d2b7-4b17-a95c-43e43cf25069 button.colab-df-convert');\n",
              "        buttonEl.style.display =\n",
              "          google.colab.kernel.accessAllowed ? 'block' : 'none';\n",
              "\n",
              "        async function convertToInteractive(key) {\n",
              "          const element = document.querySelector('#df-0e800672-d2b7-4b17-a95c-43e43cf25069');\n",
              "          const dataTable =\n",
              "            await google.colab.kernel.invokeFunction('convertToInteractive',\n",
              "                                                     [key], {});\n",
              "          if (!dataTable) return;\n",
              "\n",
              "          const docLinkHtml = 'Like what you see? Visit the ' +\n",
              "            '<a target=\"_blank\" href=https://colab.research.google.com/notebooks/data_table.ipynb>data table notebook</a>'\n",
              "            + ' to learn more about interactive tables.';\n",
              "          element.innerHTML = '';\n",
              "          dataTable['output_type'] = 'display_data';\n",
              "          await google.colab.output.renderOutput(dataTable, element);\n",
              "          const docLink = document.createElement('div');\n",
              "          docLink.innerHTML = docLinkHtml;\n",
              "          element.appendChild(docLink);\n",
              "        }\n",
              "      </script>\n",
              "    </div>\n",
              "  </div>\n",
              "  "
            ]
          },
          "metadata": {},
          "execution_count": 45
        }
      ]
    },
    {
      "cell_type": "code",
      "source": [
        "# Obtener el número de filas y columnas del dataframe\n",
        "num_filas, num_columnas = df.shape\n",
        "\n",
        "print(\"El dataframe tiene\", num_filas, \"filas y\", num_columnas, \"columnas.\")"
      ],
      "metadata": {
        "colab": {
          "base_uri": "https://localhost:8080/"
        },
        "id": "EHkgjysP1aW-",
        "outputId": "0c43d735-5a60-43df-c226-546fbc68fc00"
      },
      "execution_count": null,
      "outputs": [
        {
          "output_type": "stream",
          "name": "stdout",
          "text": [
            "El dataframe tiene 11571 filas y 222 columnas.\n"
          ]
        }
      ]
    },
    {
      "cell_type": "markdown",
      "source": [
        "#Tratamiento de las variables \n",
        "Se determina eliminar las filas de datos faltantes para que el modelo aprenda de manera correcta a predecir el valor de la variable objetivo"
      ],
      "metadata": {
        "id": "FiqXnGk0rPT_"
      }
    },
    {
      "cell_type": "code",
      "source": [
        "#Eliminar Campos vacios\n",
        "df = df.dropna()"
      ],
      "metadata": {
        "id": "NTMGAcpR1P4q"
      },
      "execution_count": null,
      "outputs": []
    },
    {
      "cell_type": "code",
      "source": [
        "# Obtener el número de filas y columnas del dataframe\n",
        "num_filas, num_columnas = df.shape\n",
        "\n",
        "print(\"El dataframe tiene\", num_filas, \"filas y\", num_columnas, \"columnas.\")"
      ],
      "metadata": {
        "colab": {
          "base_uri": "https://localhost:8080/"
        },
        "id": "q4hKp_QM1tqv",
        "outputId": "2def5a48-411d-49b1-e2a3-c630d8b37b6b"
      },
      "execution_count": null,
      "outputs": [
        {
          "output_type": "stream",
          "name": "stdout",
          "text": [
            "El dataframe tiene 588 filas y 222 columnas.\n"
          ]
        }
      ]
    },
    {
      "cell_type": "markdown",
      "source": [
        "#Transformación de las variables más relevantes"
      ],
      "metadata": {
        "id": "qSVyj8FrrfxZ"
      }
    },
    {
      "cell_type": "code",
      "source": [
        "\n",
        "#CAmbio a la variable fecha \n",
        "import datetime\n",
        "import pandas as pd\n",
        "\n",
        "# fecha de ejemplo como int64\n",
        "fecha_aprobacion_int64 = 1648442400\n",
        "\n",
        "# convertir int64 a datetime\n",
        "fecha_aprobacion = datetime.datetime.fromtimestamp(fecha_aprobacion_int64)\n",
        "\n",
        "# imprimir fecha en formato legible\n",
        "print(fecha_aprobacion.strftime('%Y-%m-%d %H:%M:%S'))\n",
        "\n",
        "# verificar el tipo de datos de la columna fecha_aprobación\n",
        "print(df['fecha_aprobación'].dtypes)\n",
        "\n",
        "# convertir la columna a formato de fecha\n",
        "df['fecha_aprobación'] = pd.to_datetime(df['fecha_aprobación'])\n",
        "\n",
        "# verificar el nuevo tipo de datos de la columna fecha_aprobación\n",
        "print(df['fecha_aprobación'].dtypes)"
      ],
      "metadata": {
        "colab": {
          "base_uri": "https://localhost:8080/"
        },
        "id": "ld2UdP43111B",
        "outputId": "8833a898-1dbd-492a-a6bf-7fa0cb3cb997"
      },
      "execution_count": null,
      "outputs": [
        {
          "output_type": "stream",
          "name": "stdout",
          "text": [
            "2022-03-28 04:40:00\n",
            "float64\n",
            "datetime64[ns]\n"
          ]
        }
      ]
    },
    {
      "cell_type": "code",
      "source": [
        "#vista a la variable objetivo variable valor de avaluo \n",
        "df['valor_total_avaluo'].describe()\n"
      ],
      "metadata": {
        "colab": {
          "base_uri": "https://localhost:8080/"
        },
        "id": "ENtjGADD2eXg",
        "outputId": "55706336-a7e6-421e-b102-110d4b177c30"
      },
      "execution_count": null,
      "outputs": [
        {
          "output_type": "execute_result",
          "data": {
            "text/plain": [
              "count     588\n",
              "unique    536\n",
              "top         0\n",
              "freq       20\n",
              "Name: valor_total_avaluo, dtype: object"
            ]
          },
          "metadata": {},
          "execution_count": 50
        }
      ]
    },
    {
      "cell_type": "code",
      "source": [
        "#cambios a la variable objetivo \n",
        "df['valor_total_avaluo'] = df['valor_total_avaluo'].apply(lambda x: float(x.replace('.', '').replace(',', '.')))\n",
        "\n"
      ],
      "metadata": {
        "id": "EHUyqTlY2sru"
      },
      "execution_count": null,
      "outputs": []
    },
    {
      "cell_type": "code",
      "source": [
        "print((df['valor_total_avaluo'].describe()))"
      ],
      "metadata": {
        "colab": {
          "base_uri": "https://localhost:8080/"
        },
        "id": "od7HO3Gq4uTX",
        "outputId": "48c48a43-72f3-4e1f-b109-e69ccb463813"
      },
      "execution_count": null,
      "outputs": [
        {
          "output_type": "stream",
          "name": "stdout",
          "text": [
            "count    5.880000e+02\n",
            "mean     4.016228e+09\n",
            "std      5.382548e+10\n",
            "min      0.000000e+00\n",
            "25%      6.494808e+07\n",
            "50%      8.203375e+07\n",
            "75%      9.561754e+07\n",
            "max      1.035721e+12\n",
            "Name: valor_total_avaluo, dtype: float64\n"
          ]
        }
      ]
    },
    {
      "cell_type": "code",
      "source": [
        "#Confirmamos\n",
        "print((df['valor_total_avaluo'].describe()))"
      ],
      "metadata": {
        "colab": {
          "base_uri": "https://localhost:8080/"
        },
        "id": "fWOIGnMF5Az3",
        "outputId": "e4f52f6c-eedd-45d7-f95d-69a60fe8b822"
      },
      "execution_count": null,
      "outputs": [
        {
          "output_type": "stream",
          "name": "stdout",
          "text": [
            "count    5.880000e+02\n",
            "mean     4.016228e+09\n",
            "std      5.382548e+10\n",
            "min      0.000000e+00\n",
            "25%      6.494808e+07\n",
            "50%      8.203375e+07\n",
            "75%      9.561754e+07\n",
            "max      1.035721e+12\n",
            "Name: valor_total_avaluo, dtype: float64\n"
          ]
        }
      ]
    },
    {
      "cell_type": "markdown",
      "source": [
        "\n",
        "#Analisis inicial de la variable objetivo\n",
        "Tome el diagrama de cajas y bigotes para ver si hay datos que puedan alterar la muestra, de igual manera de encontrarlos se van a eliminar para dar homogeneidad a la base"
      ],
      "metadata": {
        "id": "wryH3k4WrpV2"
      }
    },
    {
      "cell_type": "code",
      "source": [
        "#antes de empezar vi algunos valores atipicos en la variable x\n",
        "#vamos a confirmar y los eliminamos para darle homogeneidad a la muesta\n",
        "%matplotlib inline\n",
        "df.boxplot('valor_total_avaluo')"
      ],
      "metadata": {
        "colab": {
          "base_uri": "https://localhost:8080/",
          "height": 294
        },
        "id": "s27G1lq36jT8",
        "outputId": "59ad6bc3-c4dd-4853-dad0-38e3f5ad9ead"
      },
      "execution_count": null,
      "outputs": [
        {
          "output_type": "execute_result",
          "data": {
            "text/plain": [
              "<Axes: >"
            ]
          },
          "metadata": {},
          "execution_count": 54
        },
        {
          "output_type": "display_data",
          "data": {
            "text/plain": [
              "<Figure size 432x288 with 1 Axes>"
            ],
            "image/png": "[encoded data removed]"
          },
          "metadata": {
            "needs_background": "light"
          }
        }
      ]
    },
    {
      "cell_type": "code",
      "source": [
        "sP = df['valor_total_avaluo']\n",
        "IQR = 1.5*(sP.quantile(.75)-sP.quantile(.25))\n",
        "lim_sup = sP.quantile(.75)+IQR\n",
        "lim_inf = sP.quantile(.25)-IQR"
      ],
      "metadata": {
        "id": "PNSyTN-x69FC"
      },
      "execution_count": null,
      "outputs": []
    },
    {
      "cell_type": "code",
      "source": [
        "sP_clean = sP[(sP >= lim_sup) | (sP <= lim_inf)]\n",
        "sP_clean\n",
        "df.drop(sP_clean.index)"
      ],
      "metadata": {
        "colab": {
          "base_uri": "https://localhost:8080/",
          "height": 1000
        },
        "id": "tXTbxp3z7Ajq",
        "outputId": "2a51ebeb-466b-4b9a-e111-c1f7e154faa8"
      },
      "execution_count": null,
      "outputs": [
        {
          "output_type": "execute_result",
          "data": {
            "text/plain": [
              "       Unnamed: 0    id              fecha_aprobación        objeto  \\\n",
              "3            4170  5967 1970-01-01 00:00:00.000043091  OriginaciÃ³n   \n",
              "51           3944  5665 1970-01-01 00:00:00.000043084  OriginaciÃ³n   \n",
              "127          3366  4837 1970-01-01 00:00:00.000043066   Originación   \n",
              "132          1744  2485 1970-01-01 00:00:00.000043019   Originación   \n",
              "154           651   932 1970-01-01 00:00:00.000042993   Originación   \n",
              "...           ...   ...                           ...           ...   \n",
              "11456        2568  3695 1970-01-01 00:00:00.000043041   Originación   \n",
              "11495        3073  4419 1970-01-01 00:00:00.000043059   Originación   \n",
              "11530        4658  6647 1970-01-01 00:00:00.000043144  OriginaciÃ³n   \n",
              "11532        2734  3942 1970-01-01 00:00:00.000043047   Originación   \n",
              "11549        5051  7214 1970-01-01 00:00:00.000043153  OriginaciÃ³n   \n",
              "\n",
              "                                 motivo              proposito  tipo_avaluo  \\\n",
              "3      CrÃ©dito hipotecario de vivienda  GarantÃ­a Hipotecaria  Hipotecario   \n",
              "51     CrÃ©dito hipotecario de vivienda  GarantÃ­a Hipotecaria  Hipotecario   \n",
              "127     Crédito hipotecario de vivienda   Garantía Hipotecaria  Hipotecario   \n",
              "132     Crédito hipotecario de vivienda   Garantía Hipotecaria  Hipotecario   \n",
              "154     Crédito hipotecario de vivienda   Garantía Hipotecaria  Hipotecario   \n",
              "...                                 ...                    ...          ...   \n",
              "11456   Crédito hipotecario de vivienda   Garantía Hipotecaria  Hipotecario   \n",
              "11495   Crédito hipotecario de vivienda   Garantía Hipotecaria  Hipotecario   \n",
              "11530  CrÃ©dito hipotecario de vivienda  GarantÃ­a Hipotecaria  Hipotecario   \n",
              "11532   Crédito hipotecario de vivienda   Garantía Hipotecaria  Hipotecario   \n",
              "11549  CrÃ©dito hipotecario de vivienda  GarantÃ­a Hipotecaria  Hipotecario   \n",
              "\n",
              "      tipo_credito tipo_subsidio departamento_inmueble  ...  \\\n",
              "3         Vivienda           VIS          CUNDINAMARCA  ...   \n",
              "51        Vivienda           VIS                TOLIMA  ...   \n",
              "127       Vivienda           VIS         BOGOTÁ, D. C.  ...   \n",
              "132       Vivienda           VIS                  META  ...   \n",
              "154       Vivienda           VIS             ATLÁNTICO  ...   \n",
              "...            ...           ...                   ...  ...   \n",
              "11456     Vivienda           VIS                BOYACÁ  ...   \n",
              "11495     Vivienda           VIS       VALLE DEL CAUCA  ...   \n",
              "11530     Vivienda           VIS              QUINDÃO  ...   \n",
              "11532     Vivienda           VIS             ANTIOQUIA  ...   \n",
              "11549     Vivienda           VIS                 CESAR  ...   \n",
              "\n",
              "      valor_area_construccion area_otros valor_area_otros area_libre  \\\n",
              "3                           0          0                0         No   \n",
              "51                   47600000          0                0          0   \n",
              "127                         0          0                0         No   \n",
              "132                  51300000          0                0          0   \n",
              "154                         0          0                0         No   \n",
              "...                       ...        ...              ...        ...   \n",
              "11456                       0          0                0         No   \n",
              "11495              38228000,0          0                0          0   \n",
              "11530                59328000          0                0          0   \n",
              "11532                       0          0                0         Si   \n",
              "11549                41760000          0                0          0   \n",
              "\n",
              "      valor_area_libre valor_total_avaluo           valor_uvr  \\\n",
              "3                    0         84840000.0              252245   \n",
              "51                   0         75500000.0        2.521426E+18   \n",
              "127                  0         99568000.0        2.521124E+18   \n",
              "132                  0         94050000.0             2519444   \n",
              "154                  0         61644140.0        2.516391E+18   \n",
              "...                ...                ...                 ...   \n",
              "11456                0         75130800.0             2520499   \n",
              "11495                0         56048000.0        2.521006E+18   \n",
              "11530                0         73728000.0  253.49430000000001   \n",
              "11532                0         65715000.0             2520694   \n",
              "11549                0         73045500.0  253.95480000000001   \n",
              "\n",
              "      valor_avaluo_en_uvr   Longitud   Latitud  \n",
              "3               336339,67   0.000000  0.000000  \n",
              "51              299433,73   0.000000  0.000000  \n",
              "127             394934,96   0.000000  0.000000  \n",
              "132             373296,65   0.000000  0.000000  \n",
              "154             244966,44   0.000000  0.000000  \n",
              "...                   ...        ...       ...  \n",
              "11456           298082,86   0.000000  0.000000  \n",
              "11495           222323,95   0.000000  0.000000  \n",
              "11530  290846.78000000003 -75.621039  6.254443  \n",
              "11532           260702,01   0.000000  0.000000  \n",
              "11549           287631.89 -74.037614  4.755427  \n",
              "\n",
              "[538 rows x 222 columns]"
            ],
            "text/html": [
              "\n",
              "  <div id=\"df-40150052-2978-43d5-8ec8-b64c4b0d9174\">\n",
              "    <div class=\"colab-df-container\">\n",
              "      <div>\n",
              "<style scoped>\n",
              "    .dataframe tbody tr th:only-of-type {\n",
              "        vertical-align: middle;\n",
              "    }\n",
              "\n",
              "    .dataframe tbody tr th {\n",
              "        vertical-align: top;\n",
              "    }\n",
              "\n",
              "    .dataframe thead th {\n",
              "        text-align: right;\n",
              "    }\n",
              "</style>\n",
              "<table border=\"1\" class=\"dataframe\">\n",
              "  <thead>\n",
              "    <tr style=\"text-align: right;\">\n",
              "      <th></th>\n",
              "      <th>Unnamed: 0</th>\n",
              "      <th>id</th>\n",
              "      <th>fecha_aprobación</th>\n",
              "      <th>objeto</th>\n",
              "      <th>motivo</th>\n",
              "      <th>proposito</th>\n",
              "      <th>tipo_avaluo</th>\n",
              "      <th>tipo_credito</th>\n",
              "      <th>tipo_subsidio</th>\n",
              "      <th>departamento_inmueble</th>\n",
              "      <th>...</th>\n",
              "      <th>valor_area_construccion</th>\n",
              "      <th>area_otros</th>\n",
              "      <th>valor_area_otros</th>\n",
              "      <th>area_libre</th>\n",
              "      <th>valor_area_libre</th>\n",
              "      <th>valor_total_avaluo</th>\n",
              "      <th>valor_uvr</th>\n",
              "      <th>valor_avaluo_en_uvr</th>\n",
              "      <th>Longitud</th>\n",
              "      <th>Latitud</th>\n",
              "    </tr>\n",
              "  </thead>\n",
              "  <tbody>\n",
              "    <tr>\n",
              "      <th>3</th>\n",
              "      <td>4170</td>\n",
              "      <td>5967</td>\n",
              "      <td>1970-01-01 00:00:00.000043091</td>\n",
              "      <td>OriginaciÃ³n</td>\n",
              "      <td>CrÃ©dito hipotecario de vivienda</td>\n",
              "      <td>GarantÃ­a Hipotecaria</td>\n",
              "      <td>Hipotecario</td>\n",
              "      <td>Vivienda</td>\n",
              "      <td>VIS</td>\n",
              "      <td>CUNDINAMARCA</td>\n",
              "      <td>...</td>\n",
              "      <td>0</td>\n",
              "      <td>0</td>\n",
              "      <td>0</td>\n",
              "      <td>No</td>\n",
              "      <td>0</td>\n",
              "      <td>84840000.0</td>\n",
              "      <td>252245</td>\n",
              "      <td>336339,67</td>\n",
              "      <td>0.000000</td>\n",
              "      <td>0.000000</td>\n",
              "    </tr>\n",
              "    <tr>\n",
              "      <th>51</th>\n",
              "      <td>3944</td>\n",
              "      <td>5665</td>\n",
              "      <td>1970-01-01 00:00:00.000043084</td>\n",
              "      <td>OriginaciÃ³n</td>\n",
              "      <td>CrÃ©dito hipotecario de vivienda</td>\n",
              "      <td>GarantÃ­a Hipotecaria</td>\n",
              "      <td>Hipotecario</td>\n",
              "      <td>Vivienda</td>\n",
              "      <td>VIS</td>\n",
              "      <td>TOLIMA</td>\n",
              "      <td>...</td>\n",
              "      <td>47600000</td>\n",
              "      <td>0</td>\n",
              "      <td>0</td>\n",
              "      <td>0</td>\n",
              "      <td>0</td>\n",
              "      <td>75500000.0</td>\n",
              "      <td>2.521426E+18</td>\n",
              "      <td>299433,73</td>\n",
              "      <td>0.000000</td>\n",
              "      <td>0.000000</td>\n",
              "    </tr>\n",
              "    <tr>\n",
              "      <th>127</th>\n",
              "      <td>3366</td>\n",
              "      <td>4837</td>\n",
              "      <td>1970-01-01 00:00:00.000043066</td>\n",
              "      <td>Originación</td>\n",
              "      <td>Crédito hipotecario de vivienda</td>\n",
              "      <td>Garantía Hipotecaria</td>\n",
              "      <td>Hipotecario</td>\n",
              "      <td>Vivienda</td>\n",
              "      <td>VIS</td>\n",
              "      <td>BOGOTÁ, D. C.</td>\n",
              "      <td>...</td>\n",
              "      <td>0</td>\n",
              "      <td>0</td>\n",
              "      <td>0</td>\n",
              "      <td>No</td>\n",
              "      <td>0</td>\n",
              "      <td>99568000.0</td>\n",
              "      <td>2.521124E+18</td>\n",
              "      <td>394934,96</td>\n",
              "      <td>0.000000</td>\n",
              "      <td>0.000000</td>\n",
              "    </tr>\n",
              "    <tr>\n",
              "      <th>132</th>\n",
              "      <td>1744</td>\n",
              "      <td>2485</td>\n",
              "      <td>1970-01-01 00:00:00.000043019</td>\n",
              "      <td>Originación</td>\n",
              "      <td>Crédito hipotecario de vivienda</td>\n",
              "      <td>Garantía Hipotecaria</td>\n",
              "      <td>Hipotecario</td>\n",
              "      <td>Vivienda</td>\n",
              "      <td>VIS</td>\n",
              "      <td>META</td>\n",
              "      <td>...</td>\n",
              "      <td>51300000</td>\n",
              "      <td>0</td>\n",
              "      <td>0</td>\n",
              "      <td>0</td>\n",
              "      <td>0</td>\n",
              "      <td>94050000.0</td>\n",
              "      <td>2519444</td>\n",
              "      <td>373296,65</td>\n",
              "      <td>0.000000</td>\n",
              "      <td>0.000000</td>\n",
              "    </tr>\n",
              "    <tr>\n",
              "      <th>154</th>\n",
              "      <td>651</td>\n",
              "      <td>932</td>\n",
              "      <td>1970-01-01 00:00:00.000042993</td>\n",
              "      <td>Originación</td>\n",
              "      <td>Crédito hipotecario de vivienda</td>\n",
              "      <td>Garantía Hipotecaria</td>\n",
              "      <td>Hipotecario</td>\n",
              "      <td>Vivienda</td>\n",
              "      <td>VIS</td>\n",
              "      <td>ATLÁNTICO</td>\n",
              "      <td>...</td>\n",
              "      <td>0</td>\n",
              "      <td>0</td>\n",
              "      <td>0</td>\n",
              "      <td>No</td>\n",
              "      <td>0</td>\n",
              "      <td>61644140.0</td>\n",
              "      <td>2.516391E+18</td>\n",
              "      <td>244966,44</td>\n",
              "      <td>0.000000</td>\n",
              "      <td>0.000000</td>\n",
              "    </tr>\n",
              "    <tr>\n",
              "      <th>...</th>\n",
              "      <td>...</td>\n",
              "      <td>...</td>\n",
              "      <td>...</td>\n",
              "      <td>...</td>\n",
              "      <td>...</td>\n",
              "      <td>...</td>\n",
              "      <td>...</td>\n",
              "      <td>...</td>\n",
              "      <td>...</td>\n",
              "      <td>...</td>\n",
              "      <td>...</td>\n",
              "      <td>...</td>\n",
              "      <td>...</td>\n",
              "      <td>...</td>\n",
              "      <td>...</td>\n",
              "      <td>...</td>\n",
              "      <td>...</td>\n",
              "      <td>...</td>\n",
              "      <td>...</td>\n",
              "      <td>...</td>\n",
              "      <td>...</td>\n",
              "    </tr>\n",
              "    <tr>\n",
              "      <th>11456</th>\n",
              "      <td>2568</td>\n",
              "      <td>3695</td>\n",
              "      <td>1970-01-01 00:00:00.000043041</td>\n",
              "      <td>Originación</td>\n",
              "      <td>Crédito hipotecario de vivienda</td>\n",
              "      <td>Garantía Hipotecaria</td>\n",
              "      <td>Hipotecario</td>\n",
              "      <td>Vivienda</td>\n",
              "      <td>VIS</td>\n",
              "      <td>BOYACÁ</td>\n",
              "      <td>...</td>\n",
              "      <td>0</td>\n",
              "      <td>0</td>\n",
              "      <td>0</td>\n",
              "      <td>No</td>\n",
              "      <td>0</td>\n",
              "      <td>75130800.0</td>\n",
              "      <td>2520499</td>\n",
              "      <td>298082,86</td>\n",
              "      <td>0.000000</td>\n",
              "      <td>0.000000</td>\n",
              "    </tr>\n",
              "    <tr>\n",
              "      <th>11495</th>\n",
              "      <td>3073</td>\n",
              "      <td>4419</td>\n",
              "      <td>1970-01-01 00:00:00.000043059</td>\n",
              "      <td>Originación</td>\n",
              "      <td>Crédito hipotecario de vivienda</td>\n",
              "      <td>Garantía Hipotecaria</td>\n",
              "      <td>Hipotecario</td>\n",
              "      <td>Vivienda</td>\n",
              "      <td>VIS</td>\n",
              "      <td>VALLE DEL CAUCA</td>\n",
              "      <td>...</td>\n",
              "      <td>38228000,0</td>\n",
              "      <td>0</td>\n",
              "      <td>0</td>\n",
              "      <td>0</td>\n",
              "      <td>0</td>\n",
              "      <td>56048000.0</td>\n",
              "      <td>2.521006E+18</td>\n",
              "      <td>222323,95</td>\n",
              "      <td>0.000000</td>\n",
              "      <td>0.000000</td>\n",
              "    </tr>\n",
              "    <tr>\n",
              "      <th>11530</th>\n",
              "      <td>4658</td>\n",
              "      <td>6647</td>\n",
              "      <td>1970-01-01 00:00:00.000043144</td>\n",
              "      <td>OriginaciÃ³n</td>\n",
              "      <td>CrÃ©dito hipotecario de vivienda</td>\n",
              "      <td>GarantÃ­a Hipotecaria</td>\n",
              "      <td>Hipotecario</td>\n",
              "      <td>Vivienda</td>\n",
              "      <td>VIS</td>\n",
              "      <td>QUINDÃO</td>\n",
              "      <td>...</td>\n",
              "      <td>59328000</td>\n",
              "      <td>0</td>\n",
              "      <td>0</td>\n",
              "      <td>0</td>\n",
              "      <td>0</td>\n",
              "      <td>73728000.0</td>\n",
              "      <td>253.49430000000001</td>\n",
              "      <td>290846.78000000003</td>\n",
              "      <td>-75.621039</td>\n",
              "      <td>6.254443</td>\n",
              "    </tr>\n",
              "    <tr>\n",
              "      <th>11532</th>\n",
              "      <td>2734</td>\n",
              "      <td>3942</td>\n",
              "      <td>1970-01-01 00:00:00.000043047</td>\n",
              "      <td>Originación</td>\n",
              "      <td>Crédito hipotecario de vivienda</td>\n",
              "      <td>Garantía Hipotecaria</td>\n",
              "      <td>Hipotecario</td>\n",
              "      <td>Vivienda</td>\n",
              "      <td>VIS</td>\n",
              "      <td>ANTIOQUIA</td>\n",
              "      <td>...</td>\n",
              "      <td>0</td>\n",
              "      <td>0</td>\n",
              "      <td>0</td>\n",
              "      <td>Si</td>\n",
              "      <td>0</td>\n",
              "      <td>65715000.0</td>\n",
              "      <td>2520694</td>\n",
              "      <td>260702,01</td>\n",
              "      <td>0.000000</td>\n",
              "      <td>0.000000</td>\n",
              "    </tr>\n",
              "    <tr>\n",
              "      <th>11549</th>\n",
              "      <td>5051</td>\n",
              "      <td>7214</td>\n",
              "      <td>1970-01-01 00:00:00.000043153</td>\n",
              "      <td>OriginaciÃ³n</td>\n",
              "      <td>CrÃ©dito hipotecario de vivienda</td>\n",
              "      <td>GarantÃ­a Hipotecaria</td>\n",
              "      <td>Hipotecario</td>\n",
              "      <td>Vivienda</td>\n",
              "      <td>VIS</td>\n",
              "      <td>CESAR</td>\n",
              "      <td>...</td>\n",
              "      <td>41760000</td>\n",
              "      <td>0</td>\n",
              "      <td>0</td>\n",
              "      <td>0</td>\n",
              "      <td>0</td>\n",
              "      <td>73045500.0</td>\n",
              "      <td>253.95480000000001</td>\n",
              "      <td>287631.89</td>\n",
              "      <td>-74.037614</td>\n",
              "      <td>4.755427</td>\n",
              "    </tr>\n",
              "  </tbody>\n",
              "</table>\n",
              "<p>538 rows × 222 columns</p>\n",
              "</div>\n",
              "      <button class=\"colab-df-convert\" onclick=\"convertToInteractive('df-40150052-2978-43d5-8ec8-b64c4b0d9174')\"\n",
              "              title=\"Convert this dataframe to an interactive table.\"\n",
              "              style=\"display:none;\">\n",
              "        \n",
              "  <svg xmlns=\"http://www.w3.org/2000/svg\" height=\"24px\"viewBox=\"0 0 24 24\"\n",
              "       width=\"24px\">\n",
              "    <path d=\"M0 0h24v24H0V0z\" fill=\"none\"/>\n",
              "    <path d=\"M18.56 5.44l.94 2.06.94-2.06 2.06-.94-2.06-.94-.94-2.06-.94 2.06-2.06.94zm-11 1L8.5 8.5l.94-2.06 2.06-.94-2.06-.94L8.5 2.5l-.94 2.06-2.06.94zm10 10l.94 2.06.94-2.06 2.06-.94-2.06-.94-.94-2.06-.94 2.06-2.06.94z\"/><path d=\"M17.41 7.96l-1.37-1.37c-.4-.4-.92-.59-1.43-.59-.52 0-1.04.2-1.43.59L10.3 9.45l-7.72 7.72c-.78.78-.78 2.05 0 2.83L4 21.41c.39.39.9.59 1.41.59.51 0 1.02-.2 1.41-.59l7.78-7.78 2.81-2.81c.8-.78.8-2.07 0-2.86zM5.41 20L4 18.59l7.72-7.72 1.47 1.35L5.41 20z\"/>\n",
              "  </svg>\n",
              "      </button>\n",
              "      \n",
              "  <style>\n",
              "    .colab-df-container {\n",
              "      display:flex;\n",
              "      flex-wrap:wrap;\n",
              "      gap: 12px;\n",
              "    }\n",
              "\n",
              "    .colab-df-convert {\n",
              "      background-color: #E8F0FE;\n",
              "      border: none;\n",
              "      border-radius: 50%;\n",
              "      cursor: pointer;\n",
              "      display: none;\n",
              "      fill: #1967D2;\n",
              "      height: 32px;\n",
              "      padding: 0 0 0 0;\n",
              "      width: 32px;\n",
              "    }\n",
              "\n",
              "    .colab-df-convert:hover {\n",
              "      background-color: #E2EBFA;\n",
              "      box-shadow: 0px 1px 2px rgba(60, 64, 67, 0.3), 0px 1px 3px 1px rgba(60, 64, 67, 0.15);\n",
              "      fill: #174EA6;\n",
              "    }\n",
              "\n",
              "    [theme=dark] .colab-df-convert {\n",
              "      background-color: #3B4455;\n",
              "      fill: #D2E3FC;\n",
              "    }\n",
              "\n",
              "    [theme=dark] .colab-df-convert:hover {\n",
              "      background-color: #434B5C;\n",
              "      box-shadow: 0px 1px 3px 1px rgba(0, 0, 0, 0.15);\n",
              "      filter: drop-shadow(0px 1px 2px rgba(0, 0, 0, 0.3));\n",
              "      fill: #FFFFFF;\n",
              "    }\n",
              "  </style>\n",
              "\n",
              "      <script>\n",
              "        const buttonEl =\n",
              "          document.querySelector('#df-40150052-2978-43d5-8ec8-b64c4b0d9174 button.colab-df-convert');\n",
              "        buttonEl.style.display =\n",
              "          google.colab.kernel.accessAllowed ? 'block' : 'none';\n",
              "\n",
              "        async function convertToInteractive(key) {\n",
              "          const element = document.querySelector('#df-40150052-2978-43d5-8ec8-b64c4b0d9174');\n",
              "          const dataTable =\n",
              "            await google.colab.kernel.invokeFunction('convertToInteractive',\n",
              "                                                     [key], {});\n",
              "          if (!dataTable) return;\n",
              "\n",
              "          const docLinkHtml = 'Like what you see? Visit the ' +\n",
              "            '<a target=\"_blank\" href=https://colab.research.google.com/notebooks/data_table.ipynb>data table notebook</a>'\n",
              "            + ' to learn more about interactive tables.';\n",
              "          element.innerHTML = '';\n",
              "          dataTable['output_type'] = 'display_data';\n",
              "          await google.colab.output.renderOutput(dataTable, element);\n",
              "          const docLink = document.createElement('div');\n",
              "          docLink.innerHTML = docLinkHtml;\n",
              "          element.appendChild(docLink);\n",
              "        }\n",
              "      </script>\n",
              "    </div>\n",
              "  </div>\n",
              "  "
            ]
          },
          "metadata": {},
          "execution_count": 56
        }
      ]
    },
    {
      "cell_type": "code",
      "source": [
        "#cambiar las variables descriptivas a valores booleanos\n",
        "df['alcantarillado_en_el_sector'] = df['alcantarillado_en_el_sector'].replace({'si': 1, 'no': 0})\n",
        "df['acueducto_en_el_sector'] = df['acueducto_en_el_sector'].replace({'si': 1, 'no': 0})\n",
        "df['vias_pavimentadas'] = df['vias_pavimentadas'].replace({'si': 1, 'no': 0})\n",
        "df['gas_en_el_sector'] = df['gas_en_el_sector'].replace({'si': 1, 'no': 0})\n",
        "df['energia_en_el_sector'] = df['energia_en_el_sector'].replace({'si': 1, 'no': 0})\n"
      ],
      "metadata": {
        "id": "45aQfvHFFapg"
      },
      "execution_count": null,
      "outputs": []
    },
    {
      "cell_type": "code",
      "source": [
        "df['alcantarillado_en_el_sector'] = df['alcantarillado_en_el_sector'].astype(bool)\n",
        "df['acueducto_en_el_sector'] = df['acueducto_en_el_sector'].astype(bool)\n",
        "df['vias_pavimentadas'] = df['vias_pavimentadas'].astype(bool)\n",
        "df['gas_en_el_sector'] = df['gas_en_el_sector'].astype(bool)\n",
        "df['gas_en_el_sector'] = df['gas_en_el_sector'].astype(bool)\n",
        "df['energia_en_el_sector'] = df['energia_en_el_sector'].astype(bool)\n"
      ],
      "metadata": {
        "id": "5g5b4lQZGi0Q"
      },
      "execution_count": null,
      "outputs": []
    },
    {
      "cell_type": "code",
      "source": [
        "#nUESTRA VARIABLE OBJETIVO AUN TIENE ERROR Y ES QUE TIENE UN PUNTO Y LA QUEREMOS NUMERICA \n"
      ],
      "metadata": {
        "id": "N52P3k-L8fCc"
      },
      "execution_count": null,
      "outputs": []
    },
    {
      "cell_type": "code",
      "source": [
        "pd.options.display.float_format = '{:.2f}'.format"
      ],
      "metadata": {
        "id": "ovkr0K829iOd"
      },
      "execution_count": null,
      "outputs": []
    },
    {
      "cell_type": "code",
      "source": [
        "#Confirmamos\n",
        "print((df['valor_total_avaluo'].describe()))"
      ],
      "metadata": {
        "colab": {
          "base_uri": "https://localhost:8080/"
        },
        "id": "1L1kH-Uw91sq",
        "outputId": "e460fb7f-4581-4468-f58f-75cd33aaccbc"
      },
      "execution_count": null,
      "outputs": [
        {
          "output_type": "stream",
          "name": "stdout",
          "text": [
            "count             588.00\n",
            "mean       4016227753.48\n",
            "std       53825479852.24\n",
            "min                 0.00\n",
            "25%          64948075.00\n",
            "50%          82033750.00\n",
            "75%          95617537.50\n",
            "max     1035720540032.00\n",
            "Name: valor_total_avaluo, dtype: float64\n"
          ]
        }
      ]
    },
    {
      "cell_type": "code",
      "source": [
        "#Analisis de nuesta x # Histograma:\n",
        "\n",
        "sns.distplot(df['valor_total_avaluo']);"
      ],
      "metadata": {
        "colab": {
          "base_uri": "https://localhost:8080/",
          "height": 291
        },
        "id": "M0cqdVRB95yL",
        "outputId": "0cb9d20f-48e9-429a-d31e-35b4dad22a7f"
      },
      "execution_count": null,
      "outputs": [
        {
          "output_type": "display_data",
          "data": {
            "text/plain": [
              "<Figure size 432x288 with 1 Axes>"
            ],
            "image/png": "[encoded data removed]"
          },
          "metadata": {
            "needs_background": "light"
          }
        }
      ]
    },
    {
      "cell_type": "code",
      "source": [
        "# Asimetría y curtosis:\n",
        "\n",
        "print(\"Skewness: %f\" % df['valor_total_avaluo'].skew())\n",
        "print(\"Kurtosis: %f\" % df['valor_total_avaluo'].kurt())"
      ],
      "metadata": {
        "colab": {
          "base_uri": "https://localhost:8080/"
        },
        "id": "E2nvtVmZ-H7k",
        "outputId": "ae0c5f46-b569-4508-9aba-2891c5cc494c"
      },
      "execution_count": null,
      "outputs": [
        {
          "output_type": "stream",
          "name": "stdout",
          "text": [
            "Skewness: 15.875003\n",
            "Kurtosis: 270.561993\n"
          ]
        }
      ]
    },
    {
      "cell_type": "markdown",
      "source": [],
      "metadata": {
        "id": "o5ImGwL4q63Z"
      }
    },
    {
      "cell_type": "code",
      "source": [
        "# Obtener todas las columnas de tipo float64\n",
        "float_cols = list(df.select_dtypes(include=['float64']).columns)\n",
        "print(\"Columnas de tipo float64:\", float_cols)\n",
        "\n",
        "# Obtener todas las columnas de tipo object\n",
        "object_cols = list(df.select_dtypes(include=['object']).columns)\n",
        "print(\"Columnas de tipo object:\", object_cols)"
      ],
      "metadata": {
        "colab": {
          "base_uri": "https://localhost:8080/"
        },
        "id": "zuc8fhdQ-Uni",
        "outputId": "c9c3d299-d6f8-42da-f67e-10b663b30bbd"
      },
      "execution_count": null,
      "outputs": [
        {
          "output_type": "stream",
          "name": "stdout",
          "text": [
            "Columnas de tipo float64: ['matricula_garaje_5', 'matricula_inmobiliaria_deposito_3', 'matricula_inmobiliaria_deposito_4', 'Longitud', 'Latitud']\n",
            "Columnas de tipo object: ['objeto', 'motivo', 'proposito', 'tipo_avaluo', 'tipo_credito', 'tipo_subsidio', 'departamento_inmueble', 'municipio_inmueble', 'barrio', 'sector', 'direccion_inmueble_informe', 'alcantarillado_en_el_sector', 'acueducto_en_el_sector', 'gas_en_el_sector', 'energia_en_el_sector', 'telefono_en_el_sector', 'vias_pavimentadas', 'sardineles_en_las_vias', 'andenes_en_las_vias', 'estrato', 'barrio_legal', 'topografia_sector', 'condiciones_salubridad', 'transporte', 'demanda_interes', 'paradero', 'alumbrado', 'arborizacion', 'alamedas', 'ciclo_rutas', 'nivel_equipamiento_comercial', 'descripcion_general_sector', 'perspectivas_de_valorizacion', 'actualidad_edificadora', 'comportamiento_oferta_demanda', 'alcantarillado_en_el_predio', 'acueducto_en_el_predio', 'gas_en_el_predio', 'energia_en_el_predio', 'telefono_en_el_predio', 'tipo_inmueble', 'descripcion_tipo_inmueble', 'uso_actual', 'descripcion_uso_inmueble', 'clase_inmueble', 'descripcion_clase_inmueble', 'ocupante', 'sometido_a_propiedad_horizontal', 'altura_permitida', 'observaciones_altura_permitida', 'aislamiento_posterior', 'observaciones_aislamiento_posterior', 'aislamiento_lateral', 'observaciones_aislamiento_lateral', 'antejardin', 'observaciones_antejardin', 'indice_ocupacion', 'observaciones_indice_ocupacion', 'indice_construccion', 'observaciones_indice_construccion', 'predio_subdividido_fisicamente', 'unidades', 'contadores_agua', 'contadores_luz', 'accesorios', 'area_valorada', 'observaciones_generales_inmueble', 'condicion_ph', 'numero_piso', 'numero_de_edificios', 'area_actividad', 'uso_principal_ph', 'rph', 'porteria', 'citofono', 'bicicletero', 'piscina', 'tanque_de_agua', 'club_house', 'garaje_visitantes', 'teatrino', 'sauna', 'vigilancia_privada', 'tipo_vigilancia', 'administracion', 'vetustez', 'pisos_bodega', 'estructura', 'ajustes_sismoresistentes', 'cubierta', 'fachada', 'tipo_fachada', 'estructura_reforzada', 'danos_previos', 'material_de_construccion', 'detalle_material', 'iluminacion', 'ventilacion', 'irregularidad_planta', 'irregularidad_altura', 'observaciones_estructura', 'habitaciones', 'estar_habitacion', 'cuarto_servicio', 'closet', 'sala', 'comedor', 'bano_privado', 'observaciones_dependencias', 'estado_acabados_pisos', 'calidad_acabados_pisos', 'estado_acabados_muros', 'calidad_acabados_muros', 'estado_acabados_techos', 'calidad_acabados_techos', 'estado_acabados_madera', 'calidad_acabados_madera', 'estado_acabados_metal', 'calidad_acabados_metal', 'estado_acabados_banos', 'calidad_acabados_banos', 'estado_acabados_cocina', 'calidad_acabados_cocina', 'tipo_garaje', 'numero_total_de_garajes', 'total_cupos_parquedaro', 'numero_garaje_1', 'matricula_garaje_1', 'garaje_cubierto_1', 'garaje_doble_1', 'garaje_paralelo_1', 'garaje_servidumbre_1', 'numero_garaje_2', 'matricula_garaje_2', 'garaje_cubierto_2', 'garaje_doble_2', 'garaje_paralelo_2', 'garaje_servidumbre_2', 'numero_garaje_3', 'matricula_garaje_3', 'garaje_cubierto_3', 'garaje_doble_3', 'garaje_paralelo_3', 'garaje_servidumbre_3', 'numero_garaje_4', 'matricula_garaje_4', 'garaje_cubierto_4', 'garaje_doble_4', 'garaje_paralelo_4', 'garaje_servidumbre_4', 'garaje_cubierto_5', 'garaje_doble_5', 'garaje_paralelo_5', 'garaje_servidumbre_5', 'tipo_deposito', 'numero_total_depositos', 'numero_deposito_1', 'matricula_inmobiliaria_deposito_1', 'numero_deposito_2', 'matricula_inmobiliaria_deposito_2', 'numero_deposito_3', 'numero_deposito_4', 'observaciones_generales_construccion', 'metodo_valuacion_1', 'concepto_del_metodo_1', 'metodo_valuacion_2', 'concepto_del_metodo_2', 'metodo_valuacion_3', 'concepto_del_metodo_3', 'metodo_valuacion_4', 'concepto_del_metodo_4', 'metodo_valuacion_5', 'concepto_del_metodo_5', 'metodo_valuacion_6', 'concepto_del_metodo_6', 'metodo_valuacion_7', 'concepto_del_metodo_7', 'metodo_valuacion_8', 'concepto_del_metodo_8', 'metodo_valuacion_9', 'concepto_del_metodo_9', 'area_privada', 'valor_area_privada', 'area_garaje', 'valor_area_garaje', 'area_deposito', 'valor_area_deposito', 'area_terreno', 'valor_area_terreno', 'area_construccion', 'valor_area_construccion', 'area_otros', 'valor_area_otros', 'area_libre', 'valor_area_libre', 'valor_uvr', 'valor_avaluo_en_uvr']\n"
          ]
        }
      ]
    },
    {
      "cell_type": "code",
      "source": [
        "# Diagrama de dispersión tipo_avaluo/valor_total_avaluo:\n",
        "\n",
        "var = 'valor_area_construccion'\n",
        "data = pd.concat([df['valor_total_avaluo'], df[var]], axis=1)\n",
        "data.plot.scatter(x=var, y='valor_total_avaluo', alpha = 0.5);"
      ],
      "metadata": {
        "colab": {
          "base_uri": "https://localhost:8080/",
          "height": 291
        },
        "id": "XAexmJKy-NoF",
        "outputId": "925ca711-6717-4164-b011-6041b98a1270"
      },
      "execution_count": null,
      "outputs": [
        {
          "output_type": "display_data",
          "data": {
            "text/plain": [
              "<Figure size 432x288 with 1 Axes>"
            ],
            "image/png": "[encoded data removed]"
          },
          "metadata": {
            "needs_background": "light"
          }
        }
      ]
    },
    {
      "cell_type": "code",
      "source": [
        "# Diagrama de cajas fecha_aprobación/saleprice:\n",
        "\n",
        "var = 'fecha_aprobación'\n",
        "data = pd.concat([df['valor_total_avaluo'], df[var]], axis=1)\n",
        "f, ax = plt.subplots(figsize=(8, 6))\n",
        "fig = sns.boxplot(x=var, y=\"valor_total_avaluo\", data=data)\n",
        "fig.axis(ymin=0, ymax=800000);"
      ],
      "metadata": {
        "colab": {
          "base_uri": "https://localhost:8080/",
          "height": 393
        },
        "id": "B0Nepbip_KPC",
        "outputId": "1d7c7526-42e1-469e-8cd1-fee53edd934d"
      },
      "execution_count": null,
      "outputs": [
        {
          "output_type": "display_data",
          "data": {
            "text/plain": [
              "<Figure size 576x432 with 1 Axes>"
            ],
            "image/png": "[encoded data removed]"
          },
          "metadata": {
            "needs_background": "light"
          }
        }
      ]
    },
    {
      "cell_type": "markdown",
      "source": [
        "#Analísis de variables multiples\n",
        "Se usa para poder determinar cuales seran las variables más influyentes a la hora de determinar el precio de un inmueble"
      ],
      "metadata": {
        "id": "yldpQNKOr_hP"
      }
    },
    {
      "cell_type": "code",
      "source": [
        "#Antes de empezar voy a verificar cuales son las variables con mayor correlacion para utilizarlas de varoables predictoras\n",
        "corr = df.corr()\n",
        "corr[['valor_total_avaluo']].sort_values(by = 'valor_total_avaluo',ascending = False).style.background_gradient()"
      ],
      "metadata": {
        "colab": {
          "base_uri": "https://localhost:8080/",
          "height": 959
        },
        "id": "bVpToFYS_UuV",
        "outputId": "f3adc2dc-1fba-4ec5-98b0-b28d92d8d5ce"
      },
      "execution_count": null,
      "outputs": [
        {
          "output_type": "execute_result",
          "data": {
            "text/plain": [
              "<pandas.io.formats.style.Styler at 0x7fd4d6e7b610>"
            ],
            "text/html": [
              "<style type=\"text/css\">\n",
              "#T_58494_row0_col0 {\n",
              "  background-color: #023858;\n",
              "  color: #f1f1f1;\n",
              "}\n",
              "#T_58494_row1_col0 {\n",
              "  background-color: #efe9f3;\n",
              "  color: #000000;\n",
              "}\n",
              "#T_58494_row2_col0 {\n",
              "  background-color: #f1ebf4;\n",
              "  color: #000000;\n",
              "}\n",
              "#T_58494_row3_col0 {\n",
              "  background-color: #f2ecf5;\n",
              "  color: #000000;\n",
              "}\n",
              "#T_58494_row4_col0, #T_58494_row5_col0, #T_58494_row6_col0 {\n",
              "  background-color: #f5eff6;\n",
              "  color: #000000;\n",
              "}\n",
              "#T_58494_row7_col0 {\n",
              "  background-color: #f6eff7;\n",
              "  color: #000000;\n",
              "}\n",
              "#T_58494_row8_col0, #T_58494_row9_col0, #T_58494_row10_col0 {\n",
              "  background-color: #f7f0f7;\n",
              "  color: #000000;\n",
              "}\n",
              "#T_58494_row11_col0 {\n",
              "  background-color: #f8f1f8;\n",
              "  color: #000000;\n",
              "}\n",
              "#T_58494_row12_col0 {\n",
              "  background-color: #f9f2f8;\n",
              "  color: #000000;\n",
              "}\n",
              "#T_58494_row13_col0 {\n",
              "  background-color: #faf2f8;\n",
              "  color: #000000;\n",
              "}\n",
              "#T_58494_row14_col0 {\n",
              "  background-color: #faf3f9;\n",
              "  color: #000000;\n",
              "}\n",
              "#T_58494_row15_col0 {\n",
              "  background-color: #fcf4fa;\n",
              "  color: #000000;\n",
              "}\n",
              "#T_58494_row16_col0, #T_58494_row17_col0 {\n",
              "  background-color: #fff7fb;\n",
              "  color: #000000;\n",
              "}\n",
              "#T_58494_row18_col0, #T_58494_row19_col0, #T_58494_row20_col0, #T_58494_row21_col0, #T_58494_row22_col0, #T_58494_row23_col0, #T_58494_row24_col0, #T_58494_row25_col0, #T_58494_row26_col0, #T_58494_row27_col0, #T_58494_row28_col0 {\n",
              "  background-color: #000000;\n",
              "  color: #f1f1f1;\n",
              "}\n",
              "</style>\n",
              "<table id=\"T_58494\" class=\"dataframe\">\n",
              "  <thead>\n",
              "    <tr>\n",
              "      <th class=\"blank level0\" >&nbsp;</th>\n",
              "      <th id=\"T_58494_level0_col0\" class=\"col_heading level0 col0\" >valor_total_avaluo</th>\n",
              "    </tr>\n",
              "  </thead>\n",
              "  <tbody>\n",
              "    <tr>\n",
              "      <th id=\"T_58494_level0_row0\" class=\"row_heading level0 row0\" >valor_total_avaluo</th>\n",
              "      <td id=\"T_58494_row0_col0\" class=\"data row0 col0\" >1.000000</td>\n",
              "    </tr>\n",
              "    <tr>\n",
              "      <th id=\"T_58494_level0_row1\" class=\"row_heading level0 row1\" >Longitud</th>\n",
              "      <td id=\"T_58494_row1_col0\" class=\"data row1 col0\" >0.042608</td>\n",
              "    </tr>\n",
              "    <tr>\n",
              "      <th id=\"T_58494_level0_row2\" class=\"row_heading level0 row2\" >patio_interior</th>\n",
              "      <td id=\"T_58494_row2_col0\" class=\"data row2 col0\" >0.028444</td>\n",
              "    </tr>\n",
              "    <tr>\n",
              "      <th id=\"T_58494_level0_row3\" class=\"row_heading level0 row3\" >zona_de_ropas</th>\n",
              "      <td id=\"T_58494_row3_col0\" class=\"data row3 col0\" >0.018244</td>\n",
              "    </tr>\n",
              "    <tr>\n",
              "      <th id=\"T_58494_level0_row4\" class=\"row_heading level0 row4\" >cocina</th>\n",
              "      <td id=\"T_58494_row4_col0\" class=\"data row4 col0\" >-0.003185</td>\n",
              "    </tr>\n",
              "    <tr>\n",
              "      <th id=\"T_58494_level0_row5\" class=\"row_heading level0 row5\" >bodega</th>\n",
              "      <td id=\"T_58494_row5_col0\" class=\"data row5 col0\" >-0.004323</td>\n",
              "    </tr>\n",
              "    <tr>\n",
              "      <th id=\"T_58494_level0_row6\" class=\"row_heading level0 row6\" >oficina</th>\n",
              "      <td id=\"T_58494_row6_col0\" class=\"data row6 col0\" >-0.004999</td>\n",
              "    </tr>\n",
              "    <tr>\n",
              "      <th id=\"T_58494_level0_row7\" class=\"row_heading level0 row7\" >local</th>\n",
              "      <td id=\"T_58494_row7_col0\" class=\"data row7 col0\" >-0.006832</td>\n",
              "    </tr>\n",
              "    <tr>\n",
              "      <th id=\"T_58494_level0_row8\" class=\"row_heading level0 row8\" >bano_servicio</th>\n",
              "      <td id=\"T_58494_row8_col0\" class=\"data row8 col0\" >-0.012864</td>\n",
              "    </tr>\n",
              "    <tr>\n",
              "      <th id=\"T_58494_level0_row9\" class=\"row_heading level0 row9\" >zona_verde_privada</th>\n",
              "      <td id=\"T_58494_row9_col0\" class=\"data row9 col0\" >-0.015382</td>\n",
              "    </tr>\n",
              "    <tr>\n",
              "      <th id=\"T_58494_level0_row10\" class=\"row_heading level0 row10\" >jardin</th>\n",
              "      <td id=\"T_58494_row10_col0\" class=\"data row10 col0\" >-0.015843</td>\n",
              "    </tr>\n",
              "    <tr>\n",
              "      <th id=\"T_58494_level0_row11\" class=\"row_heading level0 row11\" >estudio</th>\n",
              "      <td id=\"T_58494_row11_col0\" class=\"data row11 col0\" >-0.025953</td>\n",
              "    </tr>\n",
              "    <tr>\n",
              "      <th id=\"T_58494_level0_row12\" class=\"row_heading level0 row12\" >balcon</th>\n",
              "      <td id=\"T_58494_row12_col0\" class=\"data row12 col0\" >-0.028818</td>\n",
              "    </tr>\n",
              "    <tr>\n",
              "      <th id=\"T_58494_level0_row13\" class=\"row_heading level0 row13\" >terraza</th>\n",
              "      <td id=\"T_58494_row13_col0\" class=\"data row13 col0\" >-0.032739</td>\n",
              "    </tr>\n",
              "    <tr>\n",
              "      <th id=\"T_58494_level0_row14\" class=\"row_heading level0 row14\" >Latitud</th>\n",
              "      <td id=\"T_58494_row14_col0\" class=\"data row14 col0\" >-0.038582</td>\n",
              "    </tr>\n",
              "    <tr>\n",
              "      <th id=\"T_58494_level0_row15\" class=\"row_heading level0 row15\" >bano_social</th>\n",
              "      <td id=\"T_58494_row15_col0\" class=\"data row15 col0\" >-0.051727</td>\n",
              "    </tr>\n",
              "    <tr>\n",
              "      <th id=\"T_58494_level0_row16\" class=\"row_heading level0 row16\" >Unnamed: 0</th>\n",
              "      <td id=\"T_58494_row16_col0\" class=\"data row16 col0\" >-0.072594</td>\n",
              "    </tr>\n",
              "    <tr>\n",
              "      <th id=\"T_58494_level0_row17\" class=\"row_heading level0 row17\" >id</th>\n",
              "      <td id=\"T_58494_row17_col0\" class=\"data row17 col0\" >-0.072705</td>\n",
              "    </tr>\n",
              "    <tr>\n",
              "      <th id=\"T_58494_level0_row18\" class=\"row_heading level0 row18\" >alcantarillado_en_el_sector</th>\n",
              "      <td id=\"T_58494_row18_col0\" class=\"data row18 col0\" >nan</td>\n",
              "    </tr>\n",
              "    <tr>\n",
              "      <th id=\"T_58494_level0_row19\" class=\"row_heading level0 row19\" >acueducto_en_el_sector</th>\n",
              "      <td id=\"T_58494_row19_col0\" class=\"data row19 col0\" >nan</td>\n",
              "    </tr>\n",
              "    <tr>\n",
              "      <th id=\"T_58494_level0_row20\" class=\"row_heading level0 row20\" >gas_en_el_sector</th>\n",
              "      <td id=\"T_58494_row20_col0\" class=\"data row20 col0\" >nan</td>\n",
              "    </tr>\n",
              "    <tr>\n",
              "      <th id=\"T_58494_level0_row21\" class=\"row_heading level0 row21\" >energia_en_el_sector</th>\n",
              "      <td id=\"T_58494_row21_col0\" class=\"data row21 col0\" >nan</td>\n",
              "    </tr>\n",
              "    <tr>\n",
              "      <th id=\"T_58494_level0_row22\" class=\"row_heading level0 row22\" >vias_pavimentadas</th>\n",
              "      <td id=\"T_58494_row22_col0\" class=\"data row22 col0\" >nan</td>\n",
              "    </tr>\n",
              "    <tr>\n",
              "      <th id=\"T_58494_level0_row23\" class=\"row_heading level0 row23\" >numero_garaje_5</th>\n",
              "      <td id=\"T_58494_row23_col0\" class=\"data row23 col0\" >nan</td>\n",
              "    </tr>\n",
              "    <tr>\n",
              "      <th id=\"T_58494_level0_row24\" class=\"row_heading level0 row24\" >matricula_garaje_5</th>\n",
              "      <td id=\"T_58494_row24_col0\" class=\"data row24 col0\" >nan</td>\n",
              "    </tr>\n",
              "    <tr>\n",
              "      <th id=\"T_58494_level0_row25\" class=\"row_heading level0 row25\" >matricula_inmobiliaria_deposito_3</th>\n",
              "      <td id=\"T_58494_row25_col0\" class=\"data row25 col0\" >nan</td>\n",
              "    </tr>\n",
              "    <tr>\n",
              "      <th id=\"T_58494_level0_row26\" class=\"row_heading level0 row26\" >matricula_inmobiliaria_deposito_4</th>\n",
              "      <td id=\"T_58494_row26_col0\" class=\"data row26 col0\" >nan</td>\n",
              "    </tr>\n",
              "    <tr>\n",
              "      <th id=\"T_58494_level0_row27\" class=\"row_heading level0 row27\" >numero_deposito_5</th>\n",
              "      <td id=\"T_58494_row27_col0\" class=\"data row27 col0\" >nan</td>\n",
              "    </tr>\n",
              "    <tr>\n",
              "      <th id=\"T_58494_level0_row28\" class=\"row_heading level0 row28\" >matricula_inmobiliaria_deposito_5</th>\n",
              "      <td id=\"T_58494_row28_col0\" class=\"data row28 col0\" >nan</td>\n",
              "    </tr>\n",
              "  </tbody>\n",
              "</table>\n"
            ]
          },
          "metadata": {},
          "execution_count": 82
        }
      ]
    },
    {
      "cell_type": "markdown",
      "source": [
        "#Modelamiento\n",
        "Un modelo de regresión lineal es utilizado comúnmente para determinar el precio de una vivienda porque permite examinar la relación entre dos variables continuas: en este caso, el precio de la vivienda y las características de la misma (como el tamaño, la ubicación, el número de habitaciones, entre otros)."
      ],
      "metadata": {
        "id": "e5B5RZWasO74"
      }
    },
    {
      "cell_type": "code",
      "source": [
        "from sklearn.linear_model import LinearRegression\n",
        "from sklearn.model_selection import train_test_split\n",
        "predictors = ['energia_en_el_sector','gas_en_el_sector','vias_pavimentadas','Longitud','patio_interior','zona_de_ropas','terraza','alcantarillado_en_el_sector','acueducto_en_el_sector']\n",
        "X = df[predictors]\n",
        "\n",
        "\n",
        "# Seleccionar variable objetivo\n",
        "y = df['valor_total_avaluo']\n",
        "\n",
        "# Dividir datos en conjunto de entrenamiento y prueba\n",
        "X_train, X_test, y_train, y_test = train_test_split(X, y, test_size=0.2, random_state=42)\n",
        "\n",
        "# Crear modelo de regresión lineal\n",
        "model = LinearRegression()\n",
        "\n",
        "# Entrenar modelo con datos de entrenamiento\n",
        "model.fit(X_train, y_train)\n",
        "\n",
        "# Evaluar modelo con datos de prueba\n",
        "score = model.score(X_test, y_test)\n",
        "print(\"R2 Score:\", score)"
      ],
      "metadata": {
        "colab": {
          "base_uri": "https://localhost:8080/"
        },
        "id": "vPP447H8_Yiy",
        "outputId": "22c382fa-c055-4761-b99d-1d5cc12454b0"
      },
      "execution_count": null,
      "outputs": [
        {
          "output_type": "stream",
          "name": "stdout",
          "text": [
            "R2 Score: -1978.074370525226\n"
          ]
        }
      ]
    }
  ]
}